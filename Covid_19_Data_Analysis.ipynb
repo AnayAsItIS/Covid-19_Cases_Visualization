{
  "nbformat": 4,
  "nbformat_minor": 0,
  "metadata": {
    "colab": {
      "name": "Covid-19 Data Analysis.ipynb",
      "provenance": [],
      "collapsed_sections": [],
      "authorship_tag": "ABX9TyNu9oXYOMem/BQF+CMgcDzA",
      "include_colab_link": true
    },
    "kernelspec": {
      "name": "python3",
      "display_name": "Python 3"
    },
    "language_info": {
      "name": "python"
    }
  },
  "cells": [
    {
      "cell_type": "markdown",
      "metadata": {
        "id": "view-in-github",
        "colab_type": "text"
      },
      "source": [
        "<a href=\"https://colab.research.google.com/github/Iamtripathisatyam/Covid_Cases_Notifier/blob/main/Covid_19_Data_Analysis.ipynb\" target=\"_parent\"><img src=\"https://colab.research.google.com/assets/colab-badge.svg\" alt=\"Open In Colab\"/></a>"
      ]
    },
    {
      "cell_type": "markdown",
      "metadata": {
        "id": "4Q3W-yJzzs54"
      },
      "source": [
        "## **Covid-19 Data Analysis**\n",
        "-----\n",
        "\n",
        "\n"
      ]
    },
    {
      "cell_type": "markdown",
      "metadata": {
        "id": "ptfvC9M90jk4"
      },
      "source": [
        "\n",
        "\n",
        "*   Let's see a simple Python script to demonstrate the Country and World-wide coronavirus cases.\n",
        "*   This Python script fetches the live data from the site.\n",
        "\n"
      ]
    },
    {
      "cell_type": "markdown",
      "metadata": {
        "id": "JOT6mKph1aiH"
      },
      "source": [
        "#### **To run this Python script follow the below installation**\n",
        "\n",
        "    ~ pip install requests\n",
        "    ~ pip install plyer"
      ]
    },
    {
      "cell_type": "markdown",
      "metadata": {
        "id": "w31H_EHU2Zfm"
      },
      "source": [
        "### **Step #1:**\n",
        "Import following modules"
      ]
    },
    {
      "cell_type": "code",
      "metadata": {
        "id": "wKuuS7xb2qoQ"
      },
      "source": [
        "from plyer import notification\n",
        "import requests\n",
        "import json\n",
        "import datetime"
      ],
      "execution_count": null,
      "outputs": []
    }
  ]
}
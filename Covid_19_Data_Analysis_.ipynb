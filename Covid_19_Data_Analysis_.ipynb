{
  "nbformat": 4,
  "nbformat_minor": 0,
  "metadata": {
    "colab": {
      "name": "Covid-19 Data Analysis .ipynb",
      "provenance": [],
      "collapsed_sections": []
    },
    "kernelspec": {
      "display_name": "Python 3",
      "language": "python",
      "name": "python3"
    },
    "language_info": {
      "codemirror_mode": {
        "name": "ipython",
        "version": 3
      },
      "file_extension": ".py",
      "mimetype": "text/x-python",
      "name": "python",
      "nbconvert_exporter": "python",
      "pygments_lexer": "ipython3",
      "version": "3.8.3"
    }
  },
  "cells": [
    {
      "cell_type": "markdown",
      "metadata": {
        "id": "4Q3W-yJzzs54"
      },
      "source": [
        "## **Map the global spread of COVID-19**\n",
        "***\n",
        "\n",
        "*   Let's see a simple Python script to demonstrate the Country and World-wide coronavirus cases.\n",
        "*   This Python script fetches the live data from the site.\n",
        "\n",
        "\n",
        "\n"
      ]
    },
    {
      "cell_type": "markdown",
      "metadata": {
        "id": "JOT6mKph1aiH"
      },
      "source": [
        "#### **To run this Python script follow the below installation**\n",
        "\n",
        "    ~ pip install pycountry\n",
        "    ~ pip install plotly"
      ]
    },
    {
      "cell_type": "markdown",
      "metadata": {
        "id": "w31H_EHU2Zfm"
      },
      "source": [
        "### **Step #1:**\n",
        "Import following **modules**"
      ]
    },
    {
      "cell_type": "code",
      "metadata": {
        "id": "wKuuS7xb2qoQ"
      },
      "source": [
        "import pycountry\n",
        "import plotly.express as px\n",
        "import pandas as pd"
      ],
      "execution_count": null,
      "outputs": []
    },
    {
      "cell_type": "markdown",
      "metadata": {
        "id": "UhH_non340ao"
      },
      "source": [
        "### **Step #2:**\n",
        "* We will load data directly into a Pandas DataFrame.\n",
        "* Pandas provide a function **read_csv()**, which take an **URL** and return DataFrame object."
      ]
    },
    {
      "cell_type": "code",
      "metadata": {
        "id": "5VV_Opta5Cb4",
        "outputId": "ceef88d1-d6ed-4eb4-c92f-be368f345642"
      },
      "source": [
        "URL = r'https://raw.githubusercontent.com/datasets/covid-19/master/data/countries-aggregated.csv'\n",
        "Data_frame_1 = pd.read_csv(URL)\n",
        "print(Data_frame_1)"
      ],
      "execution_count": null,
      "outputs": [
        {
          "output_type": "stream",
          "text": [
            "             Date      Country  Confirmed  Recovered  Deaths\n",
            "0      2020-01-22  Afghanistan          0          0       0\n",
            "1      2020-01-23  Afghanistan          0          0       0\n",
            "2      2020-01-24  Afghanistan          0          0       0\n",
            "3      2020-01-25  Afghanistan          0          0       0\n",
            "4      2020-01-26  Afghanistan          0          0       0\n",
            "...           ...          ...        ...        ...     ...\n",
            "91387  2021-05-07     Zimbabwe      38403      36041    1576\n",
            "91388  2021-05-08     Zimbabwe      38414      36052    1576\n",
            "91389  2021-05-09     Zimbabwe      38419      36063    1576\n",
            "91390  2021-05-10     Zimbabwe      38433      36208    1576\n",
            "91391  2021-05-11     Zimbabwe      38448      36221    1579\n",
            "\n",
            "[91392 rows x 5 columns]\n"
          ],
          "name": "stdout"
        }
      ]
    },
    {
      "cell_type": "markdown",
      "metadata": {
        "id": "NCRolZojuiHs"
      },
      "source": [
        "**Get first five entries in the DataFrame**"
      ]
    },
    {
      "cell_type": "code",
      "metadata": {
        "id": "rGzp0irjuiHt",
        "outputId": "daf6062f-e188-40e6-e7b9-966fdbcce975"
      },
      "source": [
        "print(Data_frame_1.head(5))"
      ],
      "execution_count": null,
      "outputs": [
        {
          "output_type": "stream",
          "text": [
            "         Date      Country  Confirmed  Recovered  Deaths\n",
            "0  2020-01-22  Afghanistan          0          0       0\n",
            "1  2020-01-23  Afghanistan          0          0       0\n",
            "2  2020-01-24  Afghanistan          0          0       0\n",
            "3  2020-01-25  Afghanistan          0          0       0\n",
            "4  2020-01-26  Afghanistan          0          0       0\n"
          ],
          "name": "stdout"
        }
      ]
    },
    {
      "cell_type": "markdown",
      "metadata": {
        "id": "pZdJWYEJuiHv"
      },
      "source": [
        "**Get last five entries in the DataFrame**"
      ]
    },
    {
      "cell_type": "code",
      "metadata": {
        "id": "GaXuFzKGuiHx",
        "outputId": "b9d3ae04-9427-4312-bf7d-d98f4a64e194"
      },
      "source": [
        "print(Data_frame_1.tail(5))"
      ],
      "execution_count": null,
      "outputs": [
        {
          "output_type": "stream",
          "text": [
            "             Date   Country  Confirmed  Recovered  Deaths\n",
            "91387  2021-05-07  Zimbabwe      38403      36041    1576\n",
            "91388  2021-05-08  Zimbabwe      38414      36052    1576\n",
            "91389  2021-05-09  Zimbabwe      38419      36063    1576\n",
            "91390  2021-05-10  Zimbabwe      38433      36208    1576\n",
            "91391  2021-05-11  Zimbabwe      38448      36221    1579\n"
          ],
          "name": "stdout"
        }
      ]
    },
    {
      "cell_type": "markdown",
      "metadata": {
        "id": "02sgxOsbuiHz"
      },
      "source": [
        "### **Step #3:**\n",
        " * Create a **list of all countries** from the Country column in **Data_frame_1**."
      ]
    },
    {
      "cell_type": "code",
      "metadata": {
        "id": "w1T_AXdluiH0",
        "outputId": "15a9f75a-7776-4f5f-9c32-8c52f581e90d"
      },
      "source": [
        "Countries_list = Data_frame_1['Country'].unique().tolist()\n",
        "print(Countries_list)"
      ],
      "execution_count": null,
      "outputs": [
        {
          "output_type": "stream",
          "text": [
            "['Afghanistan', 'Albania', 'Algeria', 'Andorra', 'Angola', 'Antigua and Barbuda', 'Argentina', 'Armenia', 'Australia', 'Austria', 'Azerbaijan', 'Bahamas', 'Bahrain', 'Bangladesh', 'Barbados', 'Belarus', 'Belgium', 'Belize', 'Benin', 'Bhutan', 'Bolivia', 'Bosnia and Herzegovina', 'Botswana', 'Brazil', 'Brunei', 'Bulgaria', 'Burkina Faso', 'Burma', 'Burundi', 'Cabo Verde', 'Cambodia', 'Cameroon', 'Canada', 'Central African Republic', 'Chad', 'Chile', 'China', 'Colombia', 'Comoros', 'Congo (Brazzaville)', 'Congo (Kinshasa)', 'Costa Rica', \"Cote d'Ivoire\", 'Croatia', 'Cuba', 'Cyprus', 'Czechia', 'Denmark', 'Diamond Princess', 'Djibouti', 'Dominica', 'Dominican Republic', 'Ecuador', 'Egypt', 'El Salvador', 'Equatorial Guinea', 'Eritrea', 'Estonia', 'Eswatini', 'Ethiopia', 'Fiji', 'Finland', 'France', 'Gabon', 'Gambia', 'Georgia', 'Germany', 'Ghana', 'Greece', 'Grenada', 'Guatemala', 'Guinea', 'Guinea-Bissau', 'Guyana', 'Haiti', 'Holy See', 'Honduras', 'Hungary', 'Iceland', 'India', 'Indonesia', 'Iran', 'Iraq', 'Ireland', 'Israel', 'Italy', 'Jamaica', 'Japan', 'Jordan', 'Kazakhstan', 'Kenya', 'Korea, South', 'Kosovo', 'Kuwait', 'Kyrgyzstan', 'Laos', 'Latvia', 'Lebanon', 'Lesotho', 'Liberia', 'Libya', 'Liechtenstein', 'Lithuania', 'Luxembourg', 'MS Zaandam', 'Madagascar', 'Malawi', 'Malaysia', 'Maldives', 'Mali', 'Malta', 'Marshall Islands', 'Mauritania', 'Mauritius', 'Mexico', 'Micronesia', 'Moldova', 'Monaco', 'Mongolia', 'Montenegro', 'Morocco', 'Mozambique', 'Namibia', 'Nepal', 'Netherlands', 'New Zealand', 'Nicaragua', 'Niger', 'Nigeria', 'North Macedonia', 'Norway', 'Oman', 'Pakistan', 'Panama', 'Papua New Guinea', 'Paraguay', 'Peru', 'Philippines', 'Poland', 'Portugal', 'Qatar', 'Romania', 'Russia', 'Rwanda', 'Saint Kitts and Nevis', 'Saint Lucia', 'Saint Vincent and the Grenadines', 'Samoa', 'San Marino', 'Sao Tome and Principe', 'Saudi Arabia', 'Senegal', 'Serbia', 'Seychelles', 'Sierra Leone', 'Singapore', 'Slovakia', 'Slovenia', 'Solomon Islands', 'Somalia', 'South Africa', 'South Sudan', 'Spain', 'Sri Lanka', 'Sudan', 'Suriname', 'Sweden', 'Switzerland', 'Syria', 'Taiwan*', 'Tajikistan', 'Tanzania', 'Thailand', 'Timor-Leste', 'Togo', 'Trinidad and Tobago', 'Tunisia', 'Turkey', 'US', 'Uganda', 'Ukraine', 'United Arab Emirates', 'United Kingdom', 'Uruguay', 'Uzbekistan', 'Vanuatu', 'Venezuela', 'Vietnam', 'West Bank and Gaza', 'Yemen', 'Zambia', 'Zimbabwe']\n"
          ],
          "name": "stdout"
        }
      ]
    },
    {
      "cell_type": "markdown",
      "metadata": {
        "id": "3rSlJoqNuiH2"
      },
      "source": [
        "### **Step #4:**\n",
        "* Took dictionary name **Country_Code**(initially empty), **Keys** consisting of **Country Names** and **Values** consisting of **three-letter ISO codes**."
      ]
    },
    {
      "cell_type": "code",
      "metadata": {
        "id": "qhWAeNAMuiH3"
      },
      "source": [
        "Country_Code={}"
      ],
      "execution_count": null,
      "outputs": []
    },
    {
      "cell_type": "markdown",
      "metadata": {
        "id": "BKeyZaAjuiH4"
      },
      "source": [
        "### **Step #5:**\n",
        "* To generate three-letter ISO code for a country, use function **pycountry.countries.search_fuzzy(country)**.\n",
        "* We can access three-letter ISO code by using **Country_data[0].alpha_3**.\n",
        "* To Update the ISO codes and Country Names in a dictionary, use **update** function."
      ]
    },
    {
      "cell_type": "code",
      "metadata": {
        "id": "F_yxgwFeuiH5"
      },
      "source": [
        "for country in Countries_list:\n",
        "    try:\n",
        "        Country_data = pycountry.countries.search_fuzzy(country)\n",
        "        Code = Country_data[0].alpha_3\n",
        "        Country_Code.update({country: Code})\n",
        "    except:\n",
        "        Country_Code.update({country: ' '})"
      ],
      "execution_count": null,
      "outputs": []
    },
    {
      "cell_type": "markdown",
      "metadata": {
        "id": "iGtXkiWcuiH6"
      },
      "source": [
        "#### Display the Country names and ISO codes"
      ]
    },
    {
      "cell_type": "code",
      "metadata": {
        "id": "4puetFRCuiH8",
        "outputId": "de9302a2-60f4-4b41-a8ed-c032157ee3e5"
      },
      "source": [
        "print(Country_Code)"
      ],
      "execution_count": null,
      "outputs": [
        {
          "output_type": "stream",
          "text": [
            "{'Afghanistan': 'AFG', 'Albania': 'ALB', 'Algeria': 'DZA', 'Andorra': 'AND', 'Angola': 'AGO', 'Antigua and Barbuda': 'ATG', 'Argentina': 'ARG', 'Armenia': 'ARM', 'Australia': 'AUS', 'Austria': 'AUT', 'Azerbaijan': 'AZE', 'Bahamas': 'BHS', 'Bahrain': 'BHR', 'Bangladesh': 'BGD', 'Barbados': 'BRB', 'Belarus': 'BLR', 'Belgium': 'BEL', 'Belize': 'BLZ', 'Benin': 'BEN', 'Bhutan': 'BTN', 'Bolivia': 'BOL', 'Bosnia and Herzegovina': 'BIH', 'Botswana': 'BWA', 'Brazil': 'BRA', 'Brunei': 'BRN', 'Bulgaria': 'BGR', 'Burkina Faso': 'BFA', 'Burma': ' ', 'Burundi': 'BDI', 'Cabo Verde': 'CPV', 'Cambodia': 'KHM', 'Cameroon': 'CMR', 'Canada': 'CAN', 'Central African Republic': 'CAF', 'Chad': 'TCD', 'Chile': 'CHL', 'China': 'CHN', 'Colombia': 'COL', 'Comoros': 'COM', 'Congo (Brazzaville)': ' ', 'Congo (Kinshasa)': ' ', 'Costa Rica': 'CRI', \"Cote d'Ivoire\": 'CIV', 'Croatia': 'HRV', 'Cuba': 'CUB', 'Cyprus': 'CYP', 'Czechia': 'CZE', 'Denmark': 'DNK', 'Diamond Princess': ' ', 'Djibouti': 'DJI', 'Dominica': 'DMA', 'Dominican Republic': 'DOM', 'Ecuador': 'ECU', 'Egypt': 'EGY', 'El Salvador': 'SLV', 'Equatorial Guinea': 'GNQ', 'Eritrea': 'ERI', 'Estonia': 'EST', 'Eswatini': 'SWZ', 'Ethiopia': 'ETH', 'Fiji': 'FJI', 'Finland': 'FIN', 'France': 'FRA', 'Gabon': 'GAB', 'Gambia': 'GMB', 'Georgia': 'GEO', 'Germany': 'DEU', 'Ghana': 'GHA', 'Greece': 'GRC', 'Grenada': 'GRD', 'Guatemala': 'GTM', 'Guinea': 'GIN', 'Guinea-Bissau': 'GNB', 'Guyana': 'GUY', 'Haiti': 'HTI', 'Holy See': 'VAT', 'Honduras': 'HND', 'Hungary': 'HUN', 'Iceland': 'ISL', 'India': 'IND', 'Indonesia': 'IDN', 'Iran': 'IRN', 'Iraq': 'IRQ', 'Ireland': 'IRL', 'Israel': 'ISR', 'Italy': 'ITA', 'Jamaica': 'JAM', 'Japan': 'JPN', 'Jordan': 'JOR', 'Kazakhstan': 'KAZ', 'Kenya': 'KEN', 'Korea, South': ' ', 'Kosovo': 'SRB', 'Kuwait': 'KWT', 'Kyrgyzstan': 'KGZ', 'Laos': ' ', 'Latvia': 'LVA', 'Lebanon': 'LBN', 'Lesotho': 'LSO', 'Liberia': 'LBR', 'Libya': 'LBY', 'Liechtenstein': 'LIE', 'Lithuania': 'LTU', 'Luxembourg': 'LUX', 'MS Zaandam': ' ', 'Madagascar': 'MDG', 'Malawi': 'MWI', 'Malaysia': 'MYS', 'Maldives': 'MDV', 'Mali': 'MLI', 'Malta': 'MLT', 'Marshall Islands': 'MHL', 'Mauritania': 'MRT', 'Mauritius': 'MUS', 'Mexico': 'MEX', 'Micronesia': 'FSM', 'Moldova': 'MDA', 'Monaco': 'MCO', 'Mongolia': 'MNG', 'Montenegro': 'MNE', 'Morocco': 'MAR', 'Mozambique': 'MOZ', 'Namibia': 'NAM', 'Nepal': 'NPL', 'Netherlands': 'NLD', 'New Zealand': 'NZL', 'Nicaragua': 'NIC', 'Niger': 'NGA', 'Nigeria': 'NGA', 'North Macedonia': 'MKD', 'Norway': 'NOR', 'Oman': 'OMN', 'Pakistan': 'PAK', 'Panama': 'PAN', 'Papua New Guinea': 'PNG', 'Paraguay': 'PRY', 'Peru': 'PER', 'Philippines': 'PHL', 'Poland': 'POL', 'Portugal': 'PRT', 'Qatar': 'QAT', 'Romania': 'ROU', 'Russia': 'RUS', 'Rwanda': 'RWA', 'Saint Kitts and Nevis': 'KNA', 'Saint Lucia': 'LCA', 'Saint Vincent and the Grenadines': 'VCT', 'Samoa': 'WSM', 'San Marino': 'SMR', 'Sao Tome and Principe': 'STP', 'Saudi Arabia': 'SAU', 'Senegal': 'SEN', 'Serbia': 'SRB', 'Seychelles': 'SYC', 'Sierra Leone': 'SLE', 'Singapore': 'SGP', 'Slovakia': 'SVK', 'Slovenia': 'SVN', 'Solomon Islands': 'SLB', 'Somalia': 'SOM', 'South Africa': 'ZAF', 'South Sudan': 'SSD', 'Spain': 'ESP', 'Sri Lanka': 'LKA', 'Sudan': 'SDN', 'Suriname': 'SUR', 'Sweden': 'SWE', 'Switzerland': 'CHE', 'Syria': 'SYR', 'Taiwan*': ' ', 'Tajikistan': 'TJK', 'Tanzania': 'TZA', 'Thailand': 'THA', 'Timor-Leste': 'TLS', 'Togo': 'TGO', 'Trinidad and Tobago': 'TTO', 'Tunisia': 'TUN', 'Turkey': 'TUR', 'US': 'USA', 'Uganda': 'UGA', 'Ukraine': 'UKR', 'United Arab Emirates': 'ARE', 'United Kingdom': 'GBR', 'Uruguay': 'URY', 'Uzbekistan': 'UZB', 'Vanuatu': 'VUT', 'Venezuela': 'VEN', 'Vietnam': 'VNM', 'West Bank and Gaza': ' ', 'Yemen': 'YEM', 'Zambia': 'ZMB', 'Zimbabwe': 'ZWE'}\n"
          ],
          "name": "stdout"
        }
      ]
    },
    {
      "cell_type": "markdown",
      "metadata": {
        "id": "8wHDS07auiH9"
      },
      "source": [
        "### Step #6:\n",
        "* Create a new column **ISO_Codes** in the Data_frame_1 and fill it with the appropriate ISO Codes."
      ]
    },
    {
      "cell_type": "code",
      "metadata": {
        "id": "oezFaYAXuiH-"
      },
      "source": [
        "for Key, Values in Country_Code.items():\n",
        "    Data_frame_1.loc[(Data_frame_1.Country == Key), 'ISO_Code'] = Values"
      ],
      "execution_count": null,
      "outputs": []
    },
    {
      "cell_type": "markdown",
      "metadata": {
        "id": "2ZlV0JXjuiH_"
      },
      "source": [
        "#### Here we can see that new colum ISO_Codes has been added"
      ]
    },
    {
      "cell_type": "code",
      "metadata": {
        "id": "dSfo33atuiIB",
        "outputId": "089ab4a1-e39a-426f-fdb3-71eb61ef9b16"
      },
      "source": [
        "print(Data_frame_1.head)"
      ],
      "execution_count": null,
      "outputs": [
        {
          "output_type": "stream",
          "text": [
            "<bound method NDFrame.head of              Date      Country  Confirmed  Recovered  Deaths ISO_Code\n",
            "0      2020-01-22  Afghanistan          0          0       0      AFG\n",
            "1      2020-01-23  Afghanistan          0          0       0      AFG\n",
            "2      2020-01-24  Afghanistan          0          0       0      AFG\n",
            "3      2020-01-25  Afghanistan          0          0       0      AFG\n",
            "4      2020-01-26  Afghanistan          0          0       0      AFG\n",
            "...           ...          ...        ...        ...     ...      ...\n",
            "91387  2021-05-07     Zimbabwe      38403      36041    1576      ZWE\n",
            "91388  2021-05-08     Zimbabwe      38414      36052    1576      ZWE\n",
            "91389  2021-05-09     Zimbabwe      38419      36063    1576      ZWE\n",
            "91390  2021-05-10     Zimbabwe      38433      36208    1576      ZWE\n",
            "91391  2021-05-11     Zimbabwe      38448      36221    1579      ZWE\n",
            "\n",
            "[91392 rows x 6 columns]>\n"
          ],
          "name": "stdout"
        }
      ]
    },
    {
      "cell_type": "markdown",
      "metadata": {
        "id": "6jPEpQFJuiIC"
      },
      "source": [
        "### Step #7:\n",
        "##### Visualizing the spread using Plotly \n",
        "* Creating a **Choropleth map** using the function **px.choropleth**.\n",
        "* Choropleth map is a map composed of coloured polygons."
      ]
    },
    {
      "cell_type": "code",
      "metadata": {
        "id": "6I5ek7DauiID"
      },
      "source": [
        "figure = px.choropleth(data_frame = Data_frame_1,\n",
        "                    locations= \"ISO_Code\",\n",
        "                    color= \"Confirmed\",\n",
        "                    hover_name= \"Country\",\n",
        "                    color_continuous_scale= [\"red\", \"green\", \"blue\"], # \n",
        "                    animation_frame= \"Date\")\n",
        "\n",
        "figure.show()"
      ],
      "execution_count": null,
      "outputs": []
    },
    {
      "cell_type": "markdown",
      "metadata": {
        "id": "eHWTx0mJuiIJ"
      },
      "source": [
        "## Complete Code: "
      ]
    },
    {
      "cell_type": "code",
      "metadata": {
        "id": "auVJYsIbuiIK"
      },
      "source": [
        "import pycountry\n",
        "import plotly.express as px\n",
        "import pandas as pd\n",
        "\n",
        "URL = r'https://raw.githubusercontent.com/datasets/covid-19/master/data/countries-aggregated.csv'\n",
        "Data_frame_1 = pd.read_csv(URL)\n",
        "\n",
        "Countries_list = Data_frame_1['Country'].unique().tolist()\n",
        "\n",
        "Country_Code = {}\n",
        "\n",
        "for country in Countries_list:\n",
        "    try:\n",
        "        Country_data = pycountry.countries.search_fuzzy(country)\n",
        "        Code = Country_data[0].alpha_3\n",
        "        Country_Code.update({country: Code})\n",
        "    except:\n",
        "        Country_Code.update({country: ' '})\n",
        "\n",
        "for Key, Values in Country_Code.items():\n",
        "    Data_frame_1.loc[(Data_frame_1.Country == Key), 'ISO_Code'] = Values\n",
        "\n",
        "figure = px.choropleth(data_frame=Data_frame_1,\n",
        "                       locations=\"ISO_Code\",\n",
        "                       color=\"Confirmed\",\n",
        "                       hover_name=\"Country\",\n",
        "                       color_continuous_scale=[\"red\", \"green\", \"blue\"],\n",
        "                       animation_frame=\"Date\")\n",
        "\n",
        "figure.show()"
      ],
      "execution_count": null,
      "outputs": []
    },
    {
      "cell_type": "markdown",
      "metadata": {
        "id": "Fgo1mBQJuiIN"
      },
      "source": [
        "***\n",
        "<p>&copy; 2021 Satyam Tripathi</p>"
      ]
    }
  ]
}